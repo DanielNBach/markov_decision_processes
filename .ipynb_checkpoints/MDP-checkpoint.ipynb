{
 "cells": [
  {
   "cell_type": "code",
   "execution_count": 30,
   "id": "568fbee7",
   "metadata": {},
   "outputs": [],
   "source": [
    "import numpy as np\n",
    "import matplotlib.pyplot as plt\n",
    "import seaborn as sns\n",
    "import gymnasium as gym\n",
    "from collections import defaultdict"
   ]
  },
  {
   "cell_type": "code",
   "execution_count": 31,
   "id": "82b43e37",
   "metadata": {},
   "outputs": [],
   "source": [
    "np.random.seed(8588)"
   ]
  },
  {
   "cell_type": "markdown",
   "id": "a25699dc",
   "metadata": {},
   "source": [
    "## MDP Problem 1: Blackjack"
   ]
  },
  {
   "cell_type": "code",
   "execution_count": 29,
   "id": "b4d82e79",
   "metadata": {},
   "outputs": [
    {
     "data": {
      "text/plain": [
       "((18, 4, 1), {})"
      ]
     },
     "execution_count": 29,
     "metadata": {},
     "output_type": "execute_result"
    }
   ],
   "source": [
    "game = gym.make('Blackjack-v1', sab=True)\n",
    "\n",
    "def play_blackjack(num_episodes=1000):\n",
    "    total_reward = 0\n",
    "    for _ in range(num_episodes):\n",
    "        episode_reward = False\n",
    "game.reset()"
   ]
  }
 ],
 "metadata": {
  "kernelspec": {
   "display_name": "Python 3 (ipykernel)",
   "language": "python",
   "name": "python3"
  },
  "language_info": {
   "codemirror_mode": {
    "name": "ipython",
    "version": 3
   },
   "file_extension": ".py",
   "mimetype": "text/x-python",
   "name": "python",
   "nbconvert_exporter": "python",
   "pygments_lexer": "ipython3",
   "version": "3.11.4"
  }
 },
 "nbformat": 4,
 "nbformat_minor": 5
}
