{
 "cells": [
  {
   "cell_type": "code",
   "execution_count": 30,
   "id": "b28b3524",
   "metadata": {},
   "outputs": [],
   "source": [
    "import numpy as np\n",
    "import matplotlib.pyplot as plt\n",
    "import seaborn as sns\n",
    "import gymnasium as gym\n",
    "from collections import defaultdict"
   ]
  },
  {
   "cell_type": "code",
   "execution_count": 31,
   "id": "159cbae8",
   "metadata": {},
   "outputs": [],
   "source": [
    "np.random.seed(8588)"
   ]
  },
  {
   "cell_type": "code",
   "execution_count": 33,
   "id": "6ac82dfb",
   "metadata": {},
   "outputs": [
    {
     "name": "stdout",
     "output_type": "stream",
     "text": [
      "Collecting bettermdptools\n",
      "  Downloading bettermdptools-0.4.0.tar.gz (7.6 kB)\n",
      "  Preparing metadata (setup.py) ... \u001b[?25ldone\n",
      "\u001b[?25hCollecting gym<=0.26.2,>=0.26 (from bettermdptools)\n",
      "  Downloading gym-0.26.2.tar.gz (721 kB)\n",
      "\u001b[2K     \u001b[90m━━━━━━━━━━━━━━━━━━━━━━━━━━━━━━━━━━━━━━━\u001b[0m \u001b[32m721.7/721.7 kB\u001b[0m \u001b[31m5.1 MB/s\u001b[0m eta \u001b[36m0:00:00\u001b[0ma \u001b[36m0:00:01\u001b[0m\n",
      "\u001b[?25h  Installing build dependencies ... \u001b[?25ldone\n",
      "\u001b[?25h  Getting requirements to build wheel ... \u001b[?25ldone\n",
      "\u001b[?25h  Preparing metadata (pyproject.toml) ... \u001b[?25ldone\n",
      "\u001b[?25hCollecting pygame (from bettermdptools)\n",
      "  Obtaining dependency information for pygame from https://files.pythonhosted.org/packages/4d/84/5a03c47c76020c4f46354cf8c3f2d7926592c1ff9370f0ad91a3bb577b54/pygame-2.5.2-cp311-cp311-macosx_11_0_arm64.whl.metadata\n",
      "  Downloading pygame-2.5.2-cp311-cp311-macosx_11_0_arm64.whl.metadata (13 kB)\n",
      "Requirement already satisfied: numpy in /Users/danielbach/anaconda3/lib/python3.11/site-packages (from bettermdptools) (1.24.3)\n",
      "Requirement already satisfied: tqdm in /Users/danielbach/anaconda3/lib/python3.11/site-packages (from bettermdptools) (4.65.0)\n",
      "Requirement already satisfied: pandas in /Users/danielbach/anaconda3/lib/python3.11/site-packages (from bettermdptools) (1.5.3)\n",
      "Requirement already satisfied: seaborn in /Users/danielbach/anaconda3/lib/python3.11/site-packages (from bettermdptools) (0.12.2)\n",
      "Requirement already satisfied: matplotlib in /Users/danielbach/anaconda3/lib/python3.11/site-packages (from bettermdptools) (3.7.1)\n",
      "Requirement already satisfied: cloudpickle>=1.2.0 in /Users/danielbach/anaconda3/lib/python3.11/site-packages (from gym<=0.26.2,>=0.26->bettermdptools) (2.2.1)\n",
      "Collecting gym-notices>=0.0.4 (from gym<=0.26.2,>=0.26->bettermdptools)\n",
      "  Downloading gym_notices-0.0.8-py3-none-any.whl (3.0 kB)\n",
      "Requirement already satisfied: contourpy>=1.0.1 in /Users/danielbach/anaconda3/lib/python3.11/site-packages (from matplotlib->bettermdptools) (1.0.5)\n",
      "Requirement already satisfied: cycler>=0.10 in /Users/danielbach/anaconda3/lib/python3.11/site-packages (from matplotlib->bettermdptools) (0.11.0)\n",
      "Requirement already satisfied: fonttools>=4.22.0 in /Users/danielbach/anaconda3/lib/python3.11/site-packages (from matplotlib->bettermdptools) (4.25.0)\n",
      "Requirement already satisfied: kiwisolver>=1.0.1 in /Users/danielbach/anaconda3/lib/python3.11/site-packages (from matplotlib->bettermdptools) (1.4.4)\n",
      "Requirement already satisfied: packaging>=20.0 in /Users/danielbach/anaconda3/lib/python3.11/site-packages (from matplotlib->bettermdptools) (23.0)\n",
      "Requirement already satisfied: pillow>=6.2.0 in /Users/danielbach/anaconda3/lib/python3.11/site-packages (from matplotlib->bettermdptools) (9.4.0)\n",
      "Requirement already satisfied: pyparsing>=2.3.1 in /Users/danielbach/anaconda3/lib/python3.11/site-packages (from matplotlib->bettermdptools) (3.0.9)\n",
      "Requirement already satisfied: python-dateutil>=2.7 in /Users/danielbach/anaconda3/lib/python3.11/site-packages (from matplotlib->bettermdptools) (2.8.2)\n",
      "Requirement already satisfied: pytz>=2020.1 in /Users/danielbach/anaconda3/lib/python3.11/site-packages (from pandas->bettermdptools) (2022.7)\n",
      "Requirement already satisfied: six>=1.5 in /Users/danielbach/anaconda3/lib/python3.11/site-packages (from python-dateutil>=2.7->matplotlib->bettermdptools) (1.16.0)\n",
      "Downloading pygame-2.5.2-cp311-cp311-macosx_11_0_arm64.whl (12.2 MB)\n",
      "\u001b[2K   \u001b[90m━━━━━━━━━━━━━━━━━━━━━━━━━━━━━━━━━━━━━━━━\u001b[0m \u001b[32m12.2/12.2 MB\u001b[0m \u001b[31m12.2 MB/s\u001b[0m eta \u001b[36m0:00:00\u001b[0m00:01\u001b[0m00:01\u001b[0m\n",
      "\u001b[?25hBuilding wheels for collected packages: bettermdptools, gym\n",
      "  Building wheel for bettermdptools (setup.py) ... \u001b[?25ldone\n",
      "\u001b[?25h  Created wheel for bettermdptools: filename=bettermdptools-0.4.0-py3-none-any.whl size=11857 sha256=798f163a3a42086e61e7007571642ea57edee41b3f4f80b31fa9fccf9555ff20\n",
      "  Stored in directory: /Users/danielbach/Library/Caches/pip/wheels/c7/c5/f9/9fbcec693353790c7fbd5b15a5dea452f815052b45cc9cf68b\n",
      "  Building wheel for gym (pyproject.toml) ... \u001b[?25ldone\n",
      "\u001b[?25h  Created wheel for gym: filename=gym-0.26.2-py3-none-any.whl size=827620 sha256=6ab5a306f54033976720fbd4eed8f1757f453f3ff46aaf7760ff3dcd66d7adf0\n",
      "  Stored in directory: /Users/danielbach/Library/Caches/pip/wheels/1c/77/9e/9af5470201a0b0543937933ee99ba884cd237d2faefe8f4d37\n",
      "Successfully built bettermdptools gym\n",
      "Installing collected packages: gym-notices, pygame, gym, bettermdptools\n",
      "Successfully installed bettermdptools-0.4.0 gym-0.26.2 gym-notices-0.0.8 pygame-2.5.2\n",
      "Note: you may need to restart the kernel to use updated packages.\n"
     ]
    }
   ],
   "source": [
    "pip install bettermdptools"
   ]
  },
  {
   "cell_type": "markdown",
   "id": "60d00a61",
   "metadata": {},
   "source": [
    "## MDP Problem 1: Blackjack"
   ]
  },
  {
   "cell_type": "code",
   "execution_count": 29,
   "id": "42b2a97f",
   "metadata": {},
   "outputs": [
    {
     "data": {
      "text/plain": [
       "((18, 4, 1), {})"
      ]
     },
     "execution_count": 29,
     "metadata": {},
     "output_type": "execute_result"
    }
   ],
   "source": [
    "game = gym.make('Blackjack-v1', sab=True)\n",
    "\n",
    "def play_blackjack(num_episodes=1000):\n",
    "    total_reward = 0\n",
    "    for _ in range(num_episodes):\n",
    "        game.reset()\n",
    "        episode_reward = 0\n",
    "\n",
    "game.reset()"
   ]
  }
 ],
 "metadata": {
  "kernelspec": {
   "display_name": "Python 3 (ipykernel)",
   "language": "python",
   "name": "python3"
  },
  "language_info": {
   "codemirror_mode": {
    "name": "ipython",
    "version": 3
   },
   "file_extension": ".py",
   "mimetype": "text/x-python",
   "name": "python",
   "nbconvert_exporter": "python",
   "pygments_lexer": "ipython3",
   "version": "3.11.4"
  }
 },
 "nbformat": 4,
 "nbformat_minor": 5
}
